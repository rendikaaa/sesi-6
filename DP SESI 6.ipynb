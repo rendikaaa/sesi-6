{
 "cells": [
  {
   "cell_type": "markdown",
   "id": "60aa5b8a",
   "metadata": {},
   "source": [
    "Tugas Sesi 6\n",
    "\n",
    "1.Sebuah wahana bermain 'Disney Island' akan memberikan tarif sesuai dengan tinggi dan umur anak dengan ketentuan sebagai berikut:\n",
    "\n",
    "Umur kurang dari 2 tahun: Tampilkan 'Dilarang masuk'\n",
    "Umur kurang dari 4 tahun: Rp 30.000. Jika tinggi anak umur 2-3 tahun melebihi 70 cm maka tarif akan bertambah 10.000\n",
    "Umur kurang dari 7 tahun: Rp 40.000. Jika tinggi anak umur 4-6 tahun melebih 120 cm maka tarif akan bertambah 15.000\n",
    "Umur kurang dari 10 tahun: Rp 50.000. Jika tinggi anak umur 8-9 tahun melebih 150 cm maka tarif akan bertambah 20.000\n",
    "Umur 10 tahun keatas: Rp 80.000\n",
    "Buatlah program untuk menampilkan tarif harga sesuai umur dan tinggi seorang anak!"
   ]
  },
  {
   "cell_type": "code",
   "execution_count": null,
   "id": "39abda52",
   "metadata": {},
   "outputs": [],
   "source": [
    "umur = int(input(\"Masukan umur anak (tahun): \")) \n",
    "tinggi = int(input(\"Masukan tinggi anak (CM): \")) \n",
    "harga = 0 \n",
    "textHarga = \"harga untuk anak dengan umur {} tahun dengan tinggi {} cm adalah {} rupiah\" \n",
    "\n",
    "if (umur < 2 ):\n",
    "    print(\"Dilarang masuk\") \n",
    "elif (umur < 4): \n",
    "    harga = 30_000 \n",
    "    if (tinggi > 70):\n",
    "        harga += 10_000 \n",
    "    print(textHarga.format(umur, tinggi, harga)) \n",
    "elif (umur < 7): \n",
    "    harga = 40_000 \n",
    "    if (tinggi > 120): \n",
    "        harga += 15_000 \n",
    "    print(textHarga.format(umur, tinggi, harga)) \n",
    "elif (umur < 10): \n",
    "    harga = 50_000 \n",
    "    if (umur > 7 and tinggi > 150): \n",
    "        harga += 20_000 \n",
    "    print(textHarga.format(umur, tinggi, harga)) \n",
    "else: \n",
    "    harga = 80_000 \n",
    "    print(textHarga.format(umur, tinggi, harga)) "
   ]
  },
  {
   "cell_type": "markdown",
   "id": "b61f9eaf",
   "metadata": {},
   "source": [
    "2. Terdapat sebuah jurnal yang menuliskan teorinya bahwa olahraga dapat membakar kalori yang terkandung dalam tubuh manusia. Hal tersebut berbanding lurus dengan lama waktu yang dilakukan. Berikut ini adalah beberapa teori tersebut:\n",
    "\n",
    "Olahraga lari membakar 60 kalori setiap 5 menit.\n",
    "Olahraga push-up membakar 200 kalori setiap 30 menit\n",
    "Olahraga plank membakar 5 kalori selama 1 menit\n",
    "Buatlah program berdasarkan uraian tersebut untuk menghitung berapa jumlah kalori yang terbakar setelah melakukan aktivitas olahraga tersebut dengan ketentuan setiap orang boleh melakukan aktivitasnya lebih dari 1 (satu)."
   ]
  },
  {
   "cell_type": "code",
   "execution_count": 4,
   "id": "261ca7c4",
   "metadata": {},
   "outputs": [
    {
     "name": "stdout",
     "output_type": "stream",
     "text": [
      "Apakah kamu melakukan olahraga lari? jawab ya/tidak : ya\n",
      "Berapa menit? 10\n",
      "Apakah kamu melakukan olahraga push-up? jawab ya/tidak : ya\n",
      "Berapa menit? 6\n",
      "Apakah kamu melakukan olahraga plank? jawab ya/tidak : ya\n",
      "Berapa menit? 3\n",
      "\n",
      "Kalori yang terbakar dari tubuhmu adalah 155 kalori\n"
     ]
    }
   ],
   "source": [
    "kalori = 0 \n",
    "\n",
    "lari = input(\"Apakah kamu melakukan olahraga lari? jawab ya/tidak : \") == 'ya' \n",
    "if (lari): \n",
    "    menit = int(input(\"Berapa menit? \")) \n",
    "    kalori += menit*(60/5) \n",
    "pushUp = input(\"Apakah kamu melakukan olahraga push-up? jawab ya/tidak : \") == 'ya' \n",
    "if (pushUp):\n",
    "    menit = int(input(\"Berapa menit? \")) \n",
    "    kalori += menit*(200/60) \n",
    "plank = input(\"Apakah kamu melakukan olahraga plank? jawab ya/tidak : \") == 'ya' \n",
    "if (plank): \n",
    "    menit = int(input(\"Berapa menit? \")) \n",
    "    kalori += menit*5 \n",
    "    \n",
    "kalori = round(kalori) \n",
    "\n",
    "if (kalori > 0): \n",
    "    print(f\"\\nKalori yang terbakar dari tubuhmu adalah {kalori} kalori\") \n",
    "else: \n",
    "    print(\"\\nTidak ada kalori yang terbakar, kamu tidak berolahraga : \")"
   ]
  },
  {
   "cell_type": "code",
   "execution_count": null,
   "id": "3de5b1d4",
   "metadata": {},
   "outputs": [],
   "source": []
  }
 ],
 "metadata": {
  "kernelspec": {
   "display_name": "Python 3 (ipykernel)",
   "language": "python",
   "name": "python3"
  },
  "language_info": {
   "codemirror_mode": {
    "name": "ipython",
    "version": 3
   },
   "file_extension": ".py",
   "mimetype": "text/x-python",
   "name": "python",
   "nbconvert_exporter": "python",
   "pygments_lexer": "ipython3",
   "version": "3.9.12"
  }
 },
 "nbformat": 4,
 "nbformat_minor": 5
}
